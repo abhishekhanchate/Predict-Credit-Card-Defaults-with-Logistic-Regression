{
 "cells": [
  {
   "cell_type": "markdown",
   "metadata": {},
   "source": [
    "# Data Description:\n",
    "This competition is based on a version of the Default of Credit Card Clients Dataset. This dataset contains information on default payments, demographic factors, credit data, history of payment, and bill statements of credit card clients in Taiwan from April 2005 to September 2005"
   ]
  },
  {
   "cell_type": "markdown",
   "metadata": {},
   "source": [
    "# File Descriptions:\n",
    "challenge1training.csv – training set\n",
    "challenge1testing.csv – test set"
   ]
  },
  {
   "cell_type": "markdown",
   "metadata": {},
   "source": [
    "# Content:\n",
    "    \n",
    "There are 25 variables:\n",
    "\n",
    "- Id: ID of each client\n",
    "\n",
    "- LIMIT_BAL: Amount of given credit in NT dollars (includes individual and family/supplementary credit\n",
    "\n",
    "- SEX: Gender (1=male, 2=female)\n",
    "\n",
    "- EDUCATION: (1=graduate school, 2=university, 3=high school, 4=others, 5=unknown, 6=unknown)\n",
    "\n",
    "- MARRIAGE: Marital status (1=married, 2=single, 3=others)\n",
    "\n",
    "- AGE: Age in years\n",
    "\n",
    "- PAY_1: Repayment status in September, 2005 (-1=pay duly, 1=payment delay for one month, 2=payment delay for two months, ..., \n",
    "  8=payment delay for eight months, 9=payment delay for nine months and above)\n",
    "\n",
    "- PAY_2: Repayment status in August, 2005 (scale same as above)\n",
    "\n",
    "- PAY_3: Repayment status in July, 2005 (scale same as above)\n",
    "\n",
    "- PAY_4: Repayment status in June, 2005 (scale same as above)\n",
    "\n",
    "- PAY_5: Repayment status in May, 2005 (scale same as above)\n",
    "\n",
    "- PAY_6: Repayment status in April, 2005 (scale same as above)\n",
    "\n",
    "- BILL_AMT1: Amount of bill statement in September, 2005 (NT dollar)\n",
    "\n",
    "- BILL_AMT2: Amount of bill statement in August, 2005 (NT dollar)\n",
    "\n",
    "- BILL_AMT3: Amount of bill statement in July, 2005 (NT dollar)\n",
    "\n",
    "- BILL_AMT4: Amount of bill statement in June, 2005 (NT dollar)\n",
    "\n",
    "- BILL_AMT5: Amount of bill statement in May, 2005 (NT dollar)\n",
    "\n",
    "- BILL_AMT6: Amount of bill statement in April, 2005 (NT dollar)\n",
    "\n",
    "- PAY_AMT1: Amount of previous payment in September, 2005 (NT dollar)\n",
    "\n",
    "- PAY_AMT2: Amount of previous payment in August, 2005 (NT dollar)\n",
    "\n",
    "- PAY_AMT3: Amount of previous payment in July, 2005 (NT dollar)\n",
    "\n",
    "- PAY_AMT4: Amount of previous payment in June, 2005 (NT dollar)\n",
    "\n",
    "- PAY_AMT5: Amount of previous payment in May, 2005 (NT dollar)\n",
    "\n",
    "- PAY_AMT6: Amount of previous payment in April, 2005 (NT dollar)\n",
    "\n",
    "- Default: Default payment (1=yes, 0=no)"
   ]
  },
  {
   "cell_type": "code",
   "execution_count": null,
   "metadata": {},
   "outputs": [],
   "source": []
  }
 ],
 "metadata": {
  "kernelspec": {
   "display_name": "Python 3",
   "language": "python",
   "name": "python3"
  },
  "language_info": {
   "codemirror_mode": {
    "name": "ipython",
    "version": 3
   },
   "file_extension": ".py",
   "mimetype": "text/x-python",
   "name": "python",
   "nbconvert_exporter": "python",
   "pygments_lexer": "ipython3",
   "version": "3.7.3"
  }
 },
 "nbformat": 4,
 "nbformat_minor": 2
}
